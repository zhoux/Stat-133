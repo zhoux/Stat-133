{
 "metadata": {
  "name": ""
 },
 "nbformat": 3,
 "nbformat_minor": 0,
 "worksheets": [
  {
   "cells": [
    {
     "cell_type": "heading",
     "level": 2,
     "metadata": {},
     "source": [
      "Introduction"
     ]
    },
    {
     "cell_type": "markdown",
     "metadata": {},
     "source": [
      "The data table below comes from a class survery of 394 students (enrolled in Statistic 2, Section 1, during Fall 1994). \n",
      "\n",
      "**Original Aim:** Understanding better the relationship of students with video games, in order to issue recommendation to build more effective educational software. "
     ]
    },
    {
     "cell_type": "heading",
     "level": 2,
     "metadata": {},
     "source": [
      "Data"
     ]
    },
    {
     "cell_type": "markdown",
     "metadata": {},
     "source": [
      "The data was collected by having student answer a questionaire. To spare ressources, the survey was given only to a fraction of the class students. The **student sample** had **size** 94. \n",
      "\n",
      "\n",
      "The results obtained were meant to be used to **infer** information on the whole class from the information contained in the sample. For that, the **sampling** must be done in a very precise way, so that the collected data can be regarded as a **sample drawned from a random process, whose underlying probability distribution we know**.\n",
      "\n",
      "The simplest of the sampling method allowing us to have a certain control on the ideal probabilistic model, from which we want to see our sample as drawn from is the **simple random sampling.**\n",
      "\n",
      "**Simple random sampling methodology:** \n",
      "\n",
      "* each class student is assigned a number from 1 to 314\n",
      "* a random number generator draws randomly 94 numbers between 1 to 314 **without replacement**\n",
      "* the survey is given to fill in to the students whose numbers were randomly drawn\n",
      "\n",
      "Proceding this way, we have that\n",
      "\n",
      "* the probability of having a given student in our sample is $1/314$, i.e., the probability of having a given student in the survey sample is **uniform**\n",
      "* all samples drawn this way have the **same probability** of appearing; here also, the probability is **uniform**\n",
      "\n",
      "To obtain a random sequence (uniformly distributed) of 94 numbers between 1 and 314, one can use the R <code>sample</code> function; for instance, we could take:"
     ]
    },
    {
     "cell_type": "code",
     "collapsed": false,
     "input": [
      "%load_ext rmagic"
     ],
     "language": "python",
     "metadata": {},
     "outputs": [],
     "prompt_number": 4
    },
    {
     "cell_type": "code",
     "collapsed": false,
     "input": [
      "%%R\n",
      "\n",
      "studentSample = sample(1:314, 94)\n",
      "print(studentSample)"
     ],
     "language": "python",
     "metadata": {},
     "outputs": [
      {
       "metadata": {},
       "output_type": "display_data",
       "text": [
        " [1]  31  81 233 308  54 101 276 142 230 138  35 144 159 296 303  91 247 206 277\n",
        "[20] 135 202 221 118 259  44 125   2 255   3 169 204 224  69 158 178 232 302 294\n",
        "[39]  11 197 137 285 210 249 284 242 167  49 130 288 113  58  86 147 253  52  20\n",
        "[58] 212 283 223 116 279 298 141 217 200 132 307 256  29  79  90 127  97 180 238\n",
        "[77] 160 219 134  96  15  93 214 268 239 295  48   8  28  61 289  56  63 203\n"
       ]
      }
     ],
     "prompt_number": 5
    },
    {
     "cell_type": "markdown",
     "metadata": {},
     "source": [
      "We can verify that this distribution is **uniform** by plotting its **historgram**:"
     ]
    },
    {
     "cell_type": "code",
     "collapsed": false,
     "input": [
      "%%R -r 86 -w 600 -h500\n",
      "par(mfrow = c(1,2))\n",
      "hist(studentSample, xlim=c(0,314), ylim=c(0,314))\n",
      "plot(sort(studentSample), xlim=c(0,94), ylim=c(0,314))"
     ],
     "language": "python",
     "metadata": {},
     "outputs": [
      {
       "metadata": {},
       "output_type": "display_data",
       "png": "[encoded data removed]"
      }
     ],
     "prompt_number": 6
    },
    {
     "cell_type": "markdown",
     "metadata": {},
     "source": [
      "The results of the survey can be found at the following <code>url</code>:"
     ]
    },
    {
     "cell_type": "code",
     "collapsed": false,
     "input": [
      "url = 'http://www.stat.berkeley.edu/~statlabs/data/video.data'"
     ],
     "language": "python",
     "metadata": {},
     "outputs": [],
     "prompt_number": 7
    },
    {
     "cell_type": "markdown",
     "metadata": {},
     "source": [
      "Let us load this data into a R data frame:"
     ]
    },
    {
     "cell_type": "code",
     "collapsed": false,
     "input": [
      "%load_ext rmagic"
     ],
     "language": "python",
     "metadata": {},
     "outputs": [
      {
       "output_type": "stream",
       "stream": "stdout",
       "text": [
        "The rmagic extension is already loaded. To reload it, use:\n",
        "  %reload_ext rmagic\n"
       ]
      }
     ],
     "prompt_number": 8
    },
    {
     "cell_type": "code",
     "collapsed": false,
     "input": [
      "%%R -i url\n",
      "\n",
      "data = read.table(url, header=T)\n",
      "print(head(data))"
     ],
     "language": "python",
     "metadata": {},
     "outputs": [
      {
       "metadata": {},
       "output_type": "display_data",
       "text": [
        "  time like where freq busy educ sex age home math work own cdrom email grade\n",
        "1  2.0    3     3    2    0    1   0  19    1    0   10   1     0     1     4\n",
        "2  0.0    3     3    3    0    0   0  18    1    1    0   1     1     1     2\n",
        "3  0.0    3     1    3    0    0   1  19    1    0    0   1     0     1     3\n",
        "4  0.5    3     3    3    0    1   0  19    1    0    0   1     0     1     3\n",
        "5  0.0    3     3    4    0    1   0  19    1    1    0   0     0     1     3\n",
        "6  0.0    3     2    4    0    0   1  19    0    0   12   0     0     0     3\n"
       ]
      }
     ],
     "prompt_number": 9
    },
    {
     "cell_type": "markdown",
     "metadata": {},
     "source": [
      "Below is an explanation of the variables:"
     ]
    },
    {
     "cell_type": "markdown",
     "metadata": {},
     "source": [
      "<iframe src = 'http://www.stat.berkeley.edu/~statlabs/labs.html' width = 700 height = 700></iframe>"
     ]
    },
    {
     "cell_type": "heading",
     "level": 2,
     "metadata": {},
     "source": [
      "Investigations"
     ]
    },
    {
     "cell_type": "markdown",
     "metadata": {},
     "source": [
      "We are mostly interested in the time variable; i.e., the time spent playing video by the surveyed students a week prior to the exam. \n",
      "\n",
      "This is a **qualitative continous** variable, so it makes sense to plot it **distribution** using an **histogram** and a representation of its **quartiles**, using a **boxplot**:"
     ]
    },
    {
     "cell_type": "code",
     "collapsed": false,
     "input": [
      "%%R\n",
      "\n",
      "T = data[['time']]\n",
      "print(T)"
     ],
     "language": "python",
     "metadata": {},
     "outputs": [
      {
       "metadata": {},
       "output_type": "display_data",
       "text": [
        " [1]  2.0  0.0  0.0  0.5  0.0  0.0  0.0  0.0  2.0  0.0  0.0  0.0  0.0  3.0  1.0\n",
        "[16]  0.0  0.0  0.0  2.0  0.0  2.0  0.0  2.0  0.0  0.0  0.0  0.0  0.0  0.0  0.0\n",
        "[31]  0.0  1.0  0.0  0.0  0.0  0.1  0.5  1.0  0.0  0.0  0.0  2.0  2.0  0.5  0.0\n",
        "[46]  2.0  0.0  0.0  0.0  2.0  0.0  0.0  0.5  3.0  0.0  0.0  0.0  4.0 30.0 14.0\n",
        "[61]  0.0  0.0  0.0  0.5 14.0  1.0  0.0  0.0  1.5  0.0  0.0  2.0  0.0  0.0  0.0\n",
        "[76]  0.0  0.0  0.0  0.0  2.0  1.0  0.0  0.0  2.0  0.0  2.0  2.0  5.0  0.0  3.0\n",
        "[91]  0.0\n"
       ]
      }
     ],
     "prompt_number": 10
    },
    {
     "cell_type": "code",
     "collapsed": false,
     "input": [
      "%%R -r 86 -w 600 -h500\n",
      "\n",
      "par(mfrow = c(1,3))\n",
      "boxplot(T)\n",
      "hist(T)\n",
      "plot(sort(T))\n",
      "print(summary(T))"
     ],
     "language": "python",
     "metadata": {},
     "outputs": [
      {
       "output_type": "stream",
       "stream": "stderr",
       "text": [
        "ERROR: Cell magic `%%R` not found.\n"
       ]
      }
     ],
     "prompt_number": 1
    },
    {
     "cell_type": "markdown",
     "metadata": {},
     "source": [
      "We can compute the mean time spent playing video games by the students **in the sample:**"
     ]
    },
    {
     "cell_type": "code",
     "collapsed": false,
     "input": [
      "%%R\n",
      "\n",
      "m = mean(T); print(m)"
     ],
     "language": "python",
     "metadata": {},
     "outputs": [
      {
       "metadata": {},
       "output_type": "display_data",
       "text": [
        "[1] 1.242857\n"
       ]
      }
     ],
     "prompt_number": 47
    },
    {
     "cell_type": "markdown",
     "metadata": {},
     "source": [
      "* How much can we believe that the value $m$ from the sample is close to the actual population value (the mean time spending playing video game for the **whole** class)?\n",
      "\n",
      "\n",
      "* How much confident can we be in this **point estimation** of the **population mean**?\n",
      "\n",
      "\n",
      "* Can we construct an interval cented at the sample mean, allowing us to be, say 95%, sure that the actual population mean is within this **confidence interval**?\n",
      "\n",
      "That's the subject of this chapter theory. It requires that the sample data has been sampled in a way, allowing us to regard the sampled data as drawn from a probability distribution.\n",
      "\n"
     ]
    },
    {
     "cell_type": "code",
     "collapsed": false,
     "input": [],
     "language": "python",
     "metadata": {},
     "outputs": []
    }
   ],
   "metadata": {}
  }
 ]
}